{
  "nbformat": 4,
  "nbformat_minor": 0,
  "metadata": {
    "colab": {
      "provenance": []
    },
    "kernelspec": {
      "name": "python3",
      "display_name": "Python 3"
    },
    "language_info": {
      "name": "python"
    }
  },
  "cells": [
    {
      "cell_type": "code",
      "execution_count": 13,
      "metadata": {
        "id": "EmiIBwOGm0zp"
      },
      "outputs": [],
      "source": [
        "import numpy as np"
      ]
    },
    {
      "cell_type": "code",
      "source": [
        "# Creting a 2D array\n",
        "arr = np.array([1, 2, 3, 4, 5, 6])\n",
        "arr"
      ],
      "metadata": {
        "colab": {
          "base_uri": "https://localhost:8080/"
        },
        "id": "RudkABcKm3GN",
        "outputId": "db4d2e85-2b5f-4023-9b5f-bcebb3c709ce"
      },
      "execution_count": 14,
      "outputs": [
        {
          "output_type": "execute_result",
          "data": {
            "text/plain": [
              "array([1, 2, 3, 4, 5, 6])"
            ]
          },
          "metadata": {},
          "execution_count": 14
        }
      ]
    },
    {
      "cell_type": "code",
      "source": [
        "print(arr)"
      ],
      "metadata": {
        "colab": {
          "base_uri": "https://localhost:8080/"
        },
        "id": "E2BSAXq2nKOq",
        "outputId": "032f383d-4289-4279-b9a3-bc33ba0e9bf8"
      },
      "execution_count": 15,
      "outputs": [
        {
          "output_type": "stream",
          "name": "stdout",
          "text": [
            "[1 2 3 4 5 6]\n"
          ]
        }
      ]
    },
    {
      "cell_type": "code",
      "source": [
        "print(list(arr))"
      ],
      "metadata": {
        "colab": {
          "base_uri": "https://localhost:8080/"
        },
        "id": "MNqdPH0OnLUo",
        "outputId": "9b55bb4b-b036-4f65-8c2c-f880cdc1d041"
      },
      "execution_count": 16,
      "outputs": [
        {
          "output_type": "stream",
          "name": "stdout",
          "text": [
            "[1, 2, 3, 4, 5, 6]\n"
          ]
        }
      ]
    },
    {
      "cell_type": "code",
      "source": [
        "\n"
      ],
      "metadata": {
        "id": "7bAP4prenNNW"
      },
      "execution_count": 16,
      "outputs": []
    },
    {
      "cell_type": "markdown",
      "source": [
        "# numpy.ravel(a, order = 'C)"
      ],
      "metadata": {
        "id": "zdbVHhIonQWY"
      }
    },
    {
      "cell_type": "code",
      "source": [
        "# Create a 2D array\n",
        "arr = np.array([[1, 2], [3, 4], [5, 6]])\n",
        "\n",
        "# Reshape it into a 1D array (flatten it)\n",
        "flattened_arr = arr.reshape(-1)\n",
        "\n",
        "print(\"Original 2D Array:\")\n",
        "print(arr)\n",
        "print(\"\\nFlattened Array:\")\n",
        "print(flattened_arr)"
      ],
      "metadata": {
        "colab": {
          "base_uri": "https://localhost:8080/"
        },
        "id": "dFUWNMQTnPy-",
        "outputId": "13ec1997-c0fd-4908-a437-b895c05d1032"
      },
      "execution_count": 17,
      "outputs": [
        {
          "output_type": "stream",
          "name": "stdout",
          "text": [
            "Original 2D Array:\n",
            "[[1 2]\n",
            " [3 4]\n",
            " [5 6]]\n",
            "\n",
            "Flattened Array:\n",
            "[1 2 3 4 5 6]\n"
          ]
        }
      ]
    },
    {
      "cell_type": "markdown",
      "source": [
        "# numpy.ravel(a, order = 'C)"
      ],
      "metadata": {
        "id": "6obDy43En8CI"
      }
    },
    {
      "cell_type": "code",
      "source": [
        "import numpy as np\n",
        "\n",
        "# Creating a 2D arrya\n",
        "arr = np.array([[1, 2, 3], [4, 5, 6]])\n",
        "\n",
        "print(arr, '\\n\\n')\n",
        "\n",
        "# Flatten the array using ravel()\n",
        "flattened = np.ravel(arr)\n",
        "print(flattened)"
      ],
      "metadata": {
        "colab": {
          "base_uri": "https://localhost:8080/"
        },
        "id": "roPMc9nnn1k-",
        "outputId": "e5f70e1e-5282-46a1-de29-d4008a807d90"
      },
      "execution_count": 18,
      "outputs": [
        {
          "output_type": "stream",
          "name": "stdout",
          "text": [
            "[[1 2 3]\n",
            " [4 5 6]] \n",
            "\n",
            "\n",
            "[1 2 3 4 5 6]\n"
          ]
        }
      ]
    },
    {
      "cell_type": "code",
      "source": [
        "# Flatten the array column-wise using ravel()\n",
        "flattened_f = np.ravel(arr, order = 'F')\n",
        "\n",
        "print(flattened_f)"
      ],
      "metadata": {
        "colab": {
          "base_uri": "https://localhost:8080/"
        },
        "id": "Psf1JkjuolOM",
        "outputId": "6dda7631-3d10-4a86-a2fe-8217763f33c6"
      },
      "execution_count": 19,
      "outputs": [
        {
          "output_type": "stream",
          "name": "stdout",
          "text": [
            "[1 4 2 5 3 6]\n"
          ]
        }
      ]
    },
    {
      "cell_type": "code",
      "source": [
        "# Using 'A' and 'K' orders\n",
        "flattened_a = np.ravel(arr, order = 'A')\n",
        "flattened_k = np.ravel(arr, order = 'K')\n",
        "\n",
        "print(flattened_a)\n",
        "print(flattened_k)"
      ],
      "metadata": {
        "colab": {
          "base_uri": "https://localhost:8080/"
        },
        "id": "2icXfR1Fo1Fc",
        "outputId": "d8a94bc2-7a1e-4070-bede-690e63aeb1e7"
      },
      "execution_count": 20,
      "outputs": [
        {
          "output_type": "stream",
          "name": "stdout",
          "text": [
            "[1 2 3 4 5 6]\n",
            "[1 2 3 4 5 6]\n"
          ]
        }
      ]
    },
    {
      "cell_type": "code",
      "source": [
        "# Creating a transposed array\n",
        "arr_transposed = arr.T\n",
        "arr_transposed"
      ],
      "metadata": {
        "colab": {
          "base_uri": "https://localhost:8080/"
        },
        "id": "p3fwHMDIpWer",
        "outputId": "94b224a4-dfd3-4675-e334-e416d4de2104"
      },
      "execution_count": 21,
      "outputs": [
        {
          "output_type": "execute_result",
          "data": {
            "text/plain": [
              "array([[1, 4],\n",
              "       [2, 5],\n",
              "       [3, 6]])"
            ]
          },
          "metadata": {},
          "execution_count": 21
        }
      ]
    },
    {
      "cell_type": "code",
      "source": [
        "# Flattening the transposed array -- C F A K\n",
        "flattened_transposed = np.ravel(arr_transposed, order = 'C')\n",
        "print(flattened_transposed)"
      ],
      "metadata": {
        "colab": {
          "base_uri": "https://localhost:8080/"
        },
        "id": "bVaa16HQpjgk",
        "outputId": "004db2cd-91ff-4c7b-96dd-cf3f165fb867"
      },
      "execution_count": 24,
      "outputs": [
        {
          "output_type": "stream",
          "name": "stdout",
          "text": [
            "[1 4 2 5 3 6]\n"
          ]
        }
      ]
    },
    {
      "cell_type": "code",
      "source": [
        "flattened_transposed = np.ravel(arr_transposed, order = 'F')\n",
        "print(flattened_transposed)"
      ],
      "metadata": {
        "colab": {
          "base_uri": "https://localhost:8080/"
        },
        "id": "53I5klLmqW3t",
        "outputId": "101ccfaa-bb02-421d-da7d-e0bcaa060bdc"
      },
      "execution_count": 25,
      "outputs": [
        {
          "output_type": "stream",
          "name": "stdout",
          "text": [
            "[1 2 3 4 5 6]\n"
          ]
        }
      ]
    },
    {
      "cell_type": "code",
      "source": [
        "flattened_transposed = np.ravel(arr_transposed, order = 'A')\n",
        "print(flattened_transposed)"
      ],
      "metadata": {
        "colab": {
          "base_uri": "https://localhost:8080/"
        },
        "id": "waklDSh5qnvT",
        "outputId": "54cea436-0385-4d25-c31a-380fbb0ad08e"
      },
      "execution_count": 26,
      "outputs": [
        {
          "output_type": "stream",
          "name": "stdout",
          "text": [
            "[1 2 3 4 5 6]\n"
          ]
        }
      ]
    },
    {
      "cell_type": "code",
      "source": [
        "flattened_transposed = np.ravel(arr_transposed, order = 'K')\n",
        "print(flattened_transposed)"
      ],
      "metadata": {
        "colab": {
          "base_uri": "https://localhost:8080/"
        },
        "id": "VnX8dHhLqo93",
        "outputId": "63211f3a-c1d6-49b3-e5dd-147f5ddf2c13"
      },
      "execution_count": 27,
      "outputs": [
        {
          "output_type": "stream",
          "name": "stdout",
          "text": [
            "[1 2 3 4 5 6]\n"
          ]
        }
      ]
    },
    {
      "cell_type": "code",
      "source": [],
      "metadata": {
        "id": "R7xBtK6sqq33"
      },
      "execution_count": 27,
      "outputs": []
    },
    {
      "cell_type": "markdown",
      "source": [
        "**numpy.ndarray.flat**"
      ],
      "metadata": {
        "id": "tjCTfPZyq3P4"
      }
    },
    {
      "cell_type": "code",
      "source": [
        "import numpy as np\n",
        "\n",
        "# Creating a 2D array\n",
        "arr = np.array([[1, 2, 3], [4, 5, 6]])\n",
        "\n",
        "print(arr,\"\\n\\n\")\n",
        "# Using ndarray.flat to iterate over the array elements\n",
        "for element in arr.flat:\n",
        "  print(element)"
      ],
      "metadata": {
        "colab": {
          "base_uri": "https://localhost:8080/"
        },
        "id": "NCD_Fj3lq2rL",
        "outputId": "d47d05b0-72d8-4823-f92c-e465e4d7dd5b"
      },
      "execution_count": 31,
      "outputs": [
        {
          "output_type": "stream",
          "name": "stdout",
          "text": [
            "[[1 2 3]\n",
            " [4 5 6]] \n",
            "\n",
            "\n",
            "1\n",
            "2\n",
            "3\n",
            "4\n",
            "5\n",
            "6\n"
          ]
        }
      ]
    },
    {
      "cell_type": "code",
      "source": [
        "# Accessing the third element using flat (zero-based indexing)\n",
        "third_element = arr.flat[2]\n",
        "print(third_element)"
      ],
      "metadata": {
        "colab": {
          "base_uri": "https://localhost:8080/"
        },
        "id": "tLCybn5-sy-g",
        "outputId": "1be9fd62-83e2-473c-8864-aa8235cbbd3e"
      },
      "execution_count": 30,
      "outputs": [
        {
          "output_type": "stream",
          "name": "stdout",
          "text": [
            "3\n"
          ]
        }
      ]
    },
    {
      "cell_type": "code",
      "source": [
        "# Modifying elements using flat\n",
        "arr.flat[2] = 10\n",
        "print(arr)"
      ],
      "metadata": {
        "colab": {
          "base_uri": "https://localhost:8080/"
        },
        "id": "5X7rfjKVtX8M",
        "outputId": "d6cd92c2-2214-4148-c466-94d230921e1b"
      },
      "execution_count": 32,
      "outputs": [
        {
          "output_type": "stream",
          "name": "stdout",
          "text": [
            "[[ 1  2 10]\n",
            " [ 4  5  6]]\n"
          ]
        }
      ]
    },
    {
      "cell_type": "code",
      "source": [
        "# Using flat to multiply each element by 2\n",
        "for i in range(arr.size):\n",
        "  arr.flat[i] *= 2\n",
        "\n",
        "print(arr)"
      ],
      "metadata": {
        "colab": {
          "base_uri": "https://localhost:8080/"
        },
        "id": "h8JwIO-htoKA",
        "outputId": "68597c0f-a056-47a2-dbe5-5511b58622f3"
      },
      "execution_count": 34,
      "outputs": [
        {
          "output_type": "stream",
          "name": "stdout",
          "text": [
            "[[ 4  8 40]\n",
            " [16 20 24]]\n"
          ]
        }
      ]
    },
    {
      "cell_type": "code",
      "source": [
        "# Converting the flat iterator to a list\n",
        "flat_list = list(arr.flat)\n",
        "print(flat_list)\n",
        "\n",
        "# Converting to a NumPy arra\n",
        "flat_array = np.array(arr.flat)\n",
        "print(flat_array)"
      ],
      "metadata": {
        "colab": {
          "base_uri": "https://localhost:8080/"
        },
        "id": "KJc1iE9Vt7SO",
        "outputId": "3ed7facc-5dd7-49a8-a7be-26d45ef07c80"
      },
      "execution_count": 36,
      "outputs": [
        {
          "output_type": "stream",
          "name": "stdout",
          "text": [
            "[4, 8, 40, 16, 20, 24]\n",
            "[ 4  8 40 16 20 24]\n"
          ]
        }
      ]
    },
    {
      "cell_type": "code",
      "source": [],
      "metadata": {
        "id": "VD-4qhpjuxo6"
      },
      "execution_count": null,
      "outputs": []
    },
    {
      "cell_type": "markdown",
      "source": [
        "# numpy.ndarray.flatten(order = 'C')"
      ],
      "metadata": {
        "id": "8B1PF9BbuyBj"
      }
    },
    {
      "cell_type": "code",
      "source": [
        "import numpy as np\n",
        "\n",
        "# Creating a 2D array\n",
        "arr = np.array([[1, 2, 3], [4, 5, 6]])\n",
        "\n",
        "# Flattening the array using flatten()\n",
        "flattened = arr.flatten()\n",
        "print(flattened)"
      ],
      "metadata": {
        "colab": {
          "base_uri": "https://localhost:8080/"
        },
        "id": "rR9kyl1PuUXG",
        "outputId": "e83d84ff-1558-4f74-8159-d0a73584c523"
      },
      "execution_count": 37,
      "outputs": [
        {
          "output_type": "stream",
          "name": "stdout",
          "text": [
            "[1 2 3 4 5 6]\n"
          ]
        }
      ]
    },
    {
      "cell_type": "code",
      "source": [
        "# Flattening the array column-wise using flatten()\n",
        "flattened_f = arr.flatten(order = 'F')\n",
        "print(flattened_f)"
      ],
      "metadata": {
        "colab": {
          "base_uri": "https://localhost:8080/"
        },
        "id": "nbVuFAcfvF9L",
        "outputId": "4e91d48e-ed11-481f-c1cd-8314dec6f210"
      },
      "execution_count": 38,
      "outputs": [
        {
          "output_type": "stream",
          "name": "stdout",
          "text": [
            "[1 4 2 5 3 6]\n"
          ]
        }
      ]
    },
    {
      "cell_type": "code",
      "source": [
        "# Using 'A' and 'K' orders\n",
        "flattened_a = arr.flatten(order = 'a')\n",
        "flattened_k = arr.flatten(order = 'k')\n",
        "\n",
        "print(flattened_a)\n",
        "print(flattened_k)"
      ],
      "metadata": {
        "colab": {
          "base_uri": "https://localhost:8080/"
        },
        "id": "2PMaKES3vR_E",
        "outputId": "4118dc06-ec2a-4faf-d38c-34d3c1478931"
      },
      "execution_count": 39,
      "outputs": [
        {
          "output_type": "stream",
          "name": "stdout",
          "text": [
            "[1 2 3 4 5 6]\n",
            "[1 2 3 4 5 6]\n"
          ]
        }
      ]
    },
    {
      "cell_type": "code",
      "source": [
        "# Creating a 3D array\n",
        "arr_3d = np.array([[[1, 2], [3, 4]], [[5, 6], [7, 8]]])\n",
        "\n",
        "# Flattening the 3D array\n",
        "flattened_3d = arr_3d.flatten()\n",
        "flattened_3d"
      ],
      "metadata": {
        "colab": {
          "base_uri": "https://localhost:8080/"
        },
        "id": "ljzXvb5dvuXJ",
        "outputId": "d5cc93be-b368-41a8-b7dc-e0aef512ec0c"
      },
      "execution_count": 40,
      "outputs": [
        {
          "output_type": "execute_result",
          "data": {
            "text/plain": [
              "array([1, 2, 3, 4, 5, 6, 7, 8])"
            ]
          },
          "metadata": {},
          "execution_count": 40
        }
      ]
    },
    {
      "cell_type": "code",
      "source": [
        "# Modifying the flattened array\n",
        "\n",
        "flattened[2] = 10\n",
        "\n",
        "print(flattened, \"\\n\\n\")\n",
        "print(arr)"
      ],
      "metadata": {
        "colab": {
          "base_uri": "https://localhost:8080/"
        },
        "id": "nGuqsN3OwG4u",
        "outputId": "a4688ad5-4bfc-45e6-81cb-0d26104d156e"
      },
      "execution_count": 41,
      "outputs": [
        {
          "output_type": "stream",
          "name": "stdout",
          "text": [
            "[ 1  2 10  4  5  6] \n",
            "\n",
            "\n",
            "[[1 2 3]\n",
            " [4 5 6]]\n"
          ]
        }
      ]
    },
    {
      "cell_type": "code",
      "source": [],
      "metadata": {
        "id": "scX3LcelwW0e"
      },
      "execution_count": null,
      "outputs": []
    }
  ]
}