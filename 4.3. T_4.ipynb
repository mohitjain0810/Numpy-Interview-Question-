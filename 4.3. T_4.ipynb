{
  "nbformat": 4,
  "nbformat_minor": 0,
  "metadata": {
    "colab": {
      "provenance": []
    },
    "kernelspec": {
      "name": "python3",
      "display_name": "Python 3"
    },
    "language_info": {
      "name": "python"
    }
  },
  "cells": [
    {
      "cell_type": "markdown",
      "source": [
        "**Example 1: Reshape a 1D Array into a 2D Array**"
      ],
      "metadata": {
        "id": "uEBKhMemsWB8"
      }
    },
    {
      "cell_type": "code",
      "execution_count": 3,
      "metadata": {
        "colab": {
          "base_uri": "https://localhost:8080/"
        },
        "id": "A3Qf0EeprjAa",
        "outputId": "cb19115c-61d0-4288-efab-f38247ebcec3"
      },
      "outputs": [
        {
          "output_type": "stream",
          "name": "stdout",
          "text": [
            "Original Array: \n",
            "[1 2 3 4 5 6]\n",
            "Reshaped Array (2x3)\n",
            "[[1 2 3]\n",
            " [4 5 6]]\n"
          ]
        }
      ],
      "source": [
        "import numpy as np\n",
        "\n",
        "# Create a 1D array with a elements\n",
        "arr = np.array([1, 2, 3, 4, 5, 6])\n",
        "\n",
        "# Reshape it into a 2D array with 2 rows and 3 columns\n",
        "reshaped_arr = arr.reshape((2, 3))\n",
        "\n",
        "print(\"Original Array: \")\n",
        "print(arr)\n",
        "print(\"Reshaped Array (2x3)\")\n",
        "print(reshaped_arr)"
      ]
    },
    {
      "cell_type": "markdown",
      "source": [
        "**Example 2: Reshape a 1D Array into 3D array**"
      ],
      "metadata": {
        "id": "52-V5QvsszFn"
      }
    },
    {
      "cell_type": "code",
      "source": [
        "# Create a 1D array with 12 elements\n",
        "arr = np.arange(1, 13)\n",
        "\n",
        "# Reshpaed it into a 3D array with 2 matrices, each of size 2x3\n",
        "reshaped_arr = arr.reshape(2, 2, 3)\n",
        "\n",
        "print(\"Original Array:\")\n",
        "print(arr)\n",
        "print(\"Reshaped Array (2x3x3):\")\n",
        "print(reshaped_arr)"
      ],
      "metadata": {
        "colab": {
          "base_uri": "https://localhost:8080/"
        },
        "id": "TLnG1Vy3sw4z",
        "outputId": "5c4d4dce-87b6-4766-f451-09aca1e1fab2"
      },
      "execution_count": 7,
      "outputs": [
        {
          "output_type": "stream",
          "name": "stdout",
          "text": [
            "Original Array:\n",
            "[ 1  2  3  4  5  6  7  8  9 10 11 12]\n",
            "Reshaped Array (2x3x3):\n",
            "[[[ 1  2  3]\n",
            "  [ 4  5  6]]\n",
            "\n",
            " [[ 7  8  9]\n",
            "  [10 11 12]]]\n"
          ]
        }
      ]
    },
    {
      "cell_type": "markdown",
      "source": [
        "**Example 3: Using -1 in reshape() to Automatically infer a Dimension**"
      ],
      "metadata": {
        "id": "-3dsWLfgtrb-"
      }
    },
    {
      "cell_type": "code",
      "source": [
        "# Create a 1D array with 8 elements\n",
        "arr = np.array([1, 2, 3, 4, 5, 6, 7, 8])\n",
        "\n",
        "# Reshape it into a 2D array with 4 rows, ad Let NumPy calculate the number of columns\n",
        "reshaped_arr = arr.reshape((4, -1))   # -1 Lets Numpy calculate the dimension\n",
        "\n",
        "print(\"Original Array:\")\n",
        "print(arr)\n",
        "print(\"Reshaped Array (4x2):\")\n",
        "print(reshaped_arr)"
      ],
      "metadata": {
        "colab": {
          "base_uri": "https://localhost:8080/"
        },
        "id": "VOQSBSgate3p",
        "outputId": "79e9c2c7-2b02-43fa-8e02-5c509cd5cc5b"
      },
      "execution_count": 8,
      "outputs": [
        {
          "output_type": "stream",
          "name": "stdout",
          "text": [
            "Original Array:\n",
            "[1 2 3 4 5 6 7 8]\n",
            "Reshaped Array (4x2):\n",
            "[[1 2]\n",
            " [3 4]\n",
            " [5 6]\n",
            " [7 8]]\n"
          ]
        }
      ]
    },
    {
      "cell_type": "markdown",
      "source": [
        "**Example 4: Flattening a Multidimensional Array**"
      ],
      "metadata": {
        "id": "fxw2QgKlut7G"
      }
    },
    {
      "cell_type": "code",
      "source": [
        "# Create a 2D array\n",
        "arr = np.array([[1, 2], [3, 4], [5, 6]])\n",
        "\n",
        "# Reshaped it into a 1D array (flatten it)\n",
        "flattened_arr = arr.reshape(-1)\n",
        "\n",
        "print(\"Original 2D Arrray: \")\n",
        "print(arr)\n",
        "print(\"Flattened Array:\")\n",
        "print(flattened_arr)"
      ],
      "metadata": {
        "colab": {
          "base_uri": "https://localhost:8080/"
        },
        "id": "GROH4RUtugIb",
        "outputId": "fda03efd-9356-4985-bc3e-39a85004f56d"
      },
      "execution_count": 10,
      "outputs": [
        {
          "output_type": "stream",
          "name": "stdout",
          "text": [
            "Original 2D Arrray: \n",
            "[[1 2]\n",
            " [3 4]\n",
            " [5 6]]\n",
            "Flattened Array:\n",
            "[1 2 3 4 5 6]\n"
          ]
        }
      ]
    },
    {
      "cell_type": "markdown",
      "source": [
        "**Example 5: Reshape with an Incompatible Shape (Error Handling)**"
      ],
      "metadata": {
        "id": "HZULGh_NvN-8"
      }
    },
    {
      "cell_type": "code",
      "source": [
        "# Create a 1D array with 6 elements\n",
        "arr = np.array([1, 2, 3, 4, 5, 6])\n",
        "\n",
        "# Attempt to reshape into an incompatible shape\n",
        "try:\n",
        "  reshaped_arr = arr.reshape((3, 3))\n",
        "  print(reshaped_arr)\n",
        "except ValueError as e:\n",
        "  print(f\"Error : {e}\")"
      ],
      "metadata": {
        "colab": {
          "base_uri": "https://localhost:8080/"
        },
        "id": "y08VKQoWvKLS",
        "outputId": "48cffdfb-f3ea-45e1-8f37-07e137ca9260"
      },
      "execution_count": 16,
      "outputs": [
        {
          "output_type": "stream",
          "name": "stdout",
          "text": [
            "Error : cannot reshape array of size 6 into shape (3,3)\n"
          ]
        }
      ]
    },
    {
      "cell_type": "code",
      "source": [
        ""
      ],
      "metadata": {
        "id": "OXE_h8U8v29Y"
      },
      "execution_count": null,
      "outputs": []
    }
  ]
}